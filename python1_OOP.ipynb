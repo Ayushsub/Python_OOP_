{
 "cells": [
  {
   "cell_type": "markdown",
   "id": "9d449d3c-9a9c-43e3-b390-263ff7d271b2",
   "metadata": {},
   "source": [
    "***Code with harry***\n"
   ]
  },
  {
   "cell_type": "markdown",
   "id": "b7945e22",
   "metadata": {},
   "source": [
    "code_with_harry_100_days_of_code\n",
    "\n",
    "https://github.com/CodeWithHarry/100-days-of-code-youtube\n",
    "\n",
    "https://youtu.be/7wnove7K-ZQ?si=0Qqmi8zFt1lyKayx\n",
    "\n",
    "#85 video imp"
   ]
  },
  {
   "cell_type": "markdown",
   "id": "93866bcb",
   "metadata": {},
   "source": [
    "For_OOP: code_with_harry_100_days_of_code and apna_collage_complete_python(video 7,8,9)\n",
    "\n",
    "https://drive.google.com/drive/folders/1LahwPSc6f9nkxBiRrz6LFUzkrg-Kzvov?usp=sharing"
   ]
  },
  {
   "cell_type": "markdown",
   "id": "4cafc320",
   "metadata": {},
   "source": [
    "For_OOP: code_with_harry_100_days_of_code and apna_collage_complete_python(video 9)\n",
    "10:00"
   ]
  },
  {
   "cell_type": "code",
   "execution_count": 5,
   "id": "08aaaa41",
   "metadata": {},
   "outputs": [
    {
     "data": {
      "text/plain": [
       "\"---------------------------------------------------------------------------\\nAttributeError                            Traceback (most recent call last)\\nCell In[1], line 5\\n      2     __name='ayush'\\n      4 p1=person()\\n----> 5 print(p1.__name)\\n\\nAttributeError: 'person' object has no attribute '__name' \""
      ]
     },
     "execution_count": 5,
     "metadata": {},
     "output_type": "execute_result"
    }
   ],
   "source": [
    "# class person:\n",
    "#     __name='ayush'\n",
    "\n",
    "# p1=person()\n",
    "# print(p1.__name)\n",
    "\n",
    "'''---------------------------------------------------------------------------\n",
    "AttributeError                            Traceback (most recent call last)\n",
    "Cell In[1], line 5\n",
    "      2     __name='ayush'\n",
    "      4 p1=person()\n",
    "----> 5 print(p1.__name)\n",
    "\n",
    "AttributeError: 'person' object has no attribute '__name' '''"
   ]
  },
  {
   "cell_type": "code",
   "execution_count": 6,
   "id": "0cb38b50",
   "metadata": {},
   "outputs": [
    {
     "data": {
      "text/plain": [
       "'---------------------------------------------------------------------------\\nAttributeError                            Traceback (most recent call last)\\nCell In[2], line 8\\n      5         print(\"hello ayush\")\\n      7 p1=person()\\n----> 8 print(p1.__name)\\n\\nAttributeError: \\'person\\' object has no attribute \\'__name\\' '"
      ]
     },
     "execution_count": 6,
     "metadata": {},
     "output_type": "execute_result"
    }
   ],
   "source": [
    "# class person:\n",
    "#     __name='ayush'\n",
    "\n",
    "#     def __hello():\n",
    "#         print(\"hello ayush\")\n",
    "\n",
    "# p1=person()\n",
    "# print(p1.__name)\n",
    "\n",
    "'''---------------------------------------------------------------------------\n",
    "AttributeError                            Traceback (most recent call last)\n",
    "Cell In[2], line 8\n",
    "      5         print(\"hello ayush\")\n",
    "      7 p1=person()\n",
    "----> 8 print(p1.__name)\n",
    "\n",
    "AttributeError: 'person' object has no attribute '__name' '''\n"
   ]
  },
  {
   "cell_type": "code",
   "execution_count": 7,
   "id": "9581ebaf",
   "metadata": {},
   "outputs": [
    {
     "name": "stdout",
     "output_type": "stream",
     "text": [
      "hello ayush\n",
      "None\n"
     ]
    }
   ],
   "source": [
    "class person:\n",
    "    __name='ayush'\n",
    "\n",
    "    def __hello(self):\n",
    "        print(\"hello ayush\")\n",
    "    \n",
    "    def welcome(self):\n",
    "        self.__hello()\n",
    "\n",
    "p1=person()\n",
    "print(p1.welcome())"
   ]
  },
  {
   "cell_type": "code",
   "execution_count": null,
   "id": "f4b55edd",
   "metadata": {},
   "outputs": [],
   "source": []
  }
 ],
 "metadata": {
  "kernelspec": {
   "display_name": "Python 3 (ipykernel)",
   "language": "python",
   "name": "python3"
  },
  "language_info": {
   "codemirror_mode": {
    "name": "ipython",
    "version": 3
   },
   "file_extension": ".py",
   "mimetype": "text/x-python",
   "name": "python",
   "nbconvert_exporter": "python",
   "pygments_lexer": "ipython3",
   "version": "3.11.4"
  }
 },
 "nbformat": 4,
 "nbformat_minor": 5
}
